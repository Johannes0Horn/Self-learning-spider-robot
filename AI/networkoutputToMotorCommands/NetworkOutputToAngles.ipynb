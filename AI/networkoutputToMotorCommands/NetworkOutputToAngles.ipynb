{
 "cells": [
  {
   "cell_type": "code",
   "execution_count": 1,
   "metadata": {},
   "outputs": [
    {
     "data": {
      "text/html": [
       "<div>\n",
       "<style scoped>\n",
       "    .dataframe tbody tr th:only-of-type {\n",
       "        vertical-align: middle;\n",
       "    }\n",
       "\n",
       "    .dataframe tbody tr th {\n",
       "        vertical-align: top;\n",
       "    }\n",
       "\n",
       "    .dataframe thead th {\n",
       "        text-align: right;\n",
       "    }\n",
       "</style>\n",
       "<table border=\"1\" class=\"dataframe\">\n",
       "  <thead>\n",
       "    <tr style=\"text-align: right;\">\n",
       "      <th></th>\n",
       "      <th>-7.680307030677795410e-01</th>\n",
       "      <th>7.881915569305419922e-01</th>\n",
       "      <th>8.446817398071289062e-01</th>\n",
       "      <th>9.820646792650222778e-02</th>\n",
       "      <th>-8.632029891014099121e-01</th>\n",
       "      <th>-8.581719994544982910e-01</th>\n",
       "      <th>5.352768301963806152e-02</th>\n",
       "      <th>6.423144340515136719e-01</th>\n",
       "      <th>7.546397447586059570e-01</th>\n",
       "      <th>3.269729018211364746e-02</th>\n",
       "      <th>9.787184596061706543e-01</th>\n",
       "      <th>3.489990830421447754e-01</th>\n",
       "    </tr>\n",
       "  </thead>\n",
       "  <tbody>\n",
       "    <tr>\n",
       "      <td>0</td>\n",
       "      <td>0.262605</td>\n",
       "      <td>0.608343</td>\n",
       "      <td>0.937465</td>\n",
       "      <td>0.801488</td>\n",
       "      <td>0.144164</td>\n",
       "      <td>0.285537</td>\n",
       "      <td>0.105302</td>\n",
       "      <td>0.096605</td>\n",
       "      <td>0.082978</td>\n",
       "      <td>0.915550</td>\n",
       "      <td>0.732339</td>\n",
       "      <td>0.122448</td>\n",
       "    </tr>\n",
       "    <tr>\n",
       "      <td>1</td>\n",
       "      <td>-0.721562</td>\n",
       "      <td>0.825575</td>\n",
       "      <td>0.010266</td>\n",
       "      <td>0.287861</td>\n",
       "      <td>-0.765350</td>\n",
       "      <td>-0.942877</td>\n",
       "      <td>0.018049</td>\n",
       "      <td>0.886554</td>\n",
       "      <td>0.566771</td>\n",
       "      <td>0.027934</td>\n",
       "      <td>0.964522</td>\n",
       "      <td>0.900431</td>\n",
       "    </tr>\n",
       "    <tr>\n",
       "      <td>2</td>\n",
       "      <td>0.448917</td>\n",
       "      <td>0.535321</td>\n",
       "      <td>0.907533</td>\n",
       "      <td>0.833080</td>\n",
       "      <td>0.416813</td>\n",
       "      <td>-0.142851</td>\n",
       "      <td>0.293730</td>\n",
       "      <td>0.011877</td>\n",
       "      <td>0.366210</td>\n",
       "      <td>0.988189</td>\n",
       "      <td>0.701620</td>\n",
       "      <td>0.076703</td>\n",
       "    </tr>\n",
       "    <tr>\n",
       "      <td>3</td>\n",
       "      <td>-0.794772</td>\n",
       "      <td>0.905743</td>\n",
       "      <td>-0.047837</td>\n",
       "      <td>0.480601</td>\n",
       "      <td>-0.709378</td>\n",
       "      <td>-0.626890</td>\n",
       "      <td>0.003019</td>\n",
       "      <td>0.851714</td>\n",
       "      <td>0.511073</td>\n",
       "      <td>0.052586</td>\n",
       "      <td>0.832570</td>\n",
       "      <td>0.610705</td>\n",
       "    </tr>\n",
       "    <tr>\n",
       "      <td>4</td>\n",
       "      <td>0.276461</td>\n",
       "      <td>0.689671</td>\n",
       "      <td>0.892397</td>\n",
       "      <td>0.773338</td>\n",
       "      <td>0.450840</td>\n",
       "      <td>0.349106</td>\n",
       "      <td>0.040980</td>\n",
       "      <td>0.186963</td>\n",
       "      <td>0.194207</td>\n",
       "      <td>0.957932</td>\n",
       "      <td>0.524745</td>\n",
       "      <td>0.074539</td>\n",
       "    </tr>\n",
       "  </tbody>\n",
       "</table>\n",
       "</div>"
      ],
      "text/plain": [
       "   -7.680307030677795410e-01  7.881915569305419922e-01  \\\n",
       "0                   0.262605                  0.608343   \n",
       "1                  -0.721562                  0.825575   \n",
       "2                   0.448917                  0.535321   \n",
       "3                  -0.794772                  0.905743   \n",
       "4                   0.276461                  0.689671   \n",
       "\n",
       "   8.446817398071289062e-01  9.820646792650222778e-02  \\\n",
       "0                  0.937465                  0.801488   \n",
       "1                  0.010266                  0.287861   \n",
       "2                  0.907533                  0.833080   \n",
       "3                 -0.047837                  0.480601   \n",
       "4                  0.892397                  0.773338   \n",
       "\n",
       "   -8.632029891014099121e-01  -8.581719994544982910e-01  \\\n",
       "0                   0.144164                   0.285537   \n",
       "1                  -0.765350                  -0.942877   \n",
       "2                   0.416813                  -0.142851   \n",
       "3                  -0.709378                  -0.626890   \n",
       "4                   0.450840                   0.349106   \n",
       "\n",
       "   5.352768301963806152e-02  6.423144340515136719e-01  \\\n",
       "0                  0.105302                  0.096605   \n",
       "1                  0.018049                  0.886554   \n",
       "2                  0.293730                  0.011877   \n",
       "3                  0.003019                  0.851714   \n",
       "4                  0.040980                  0.186963   \n",
       "\n",
       "   7.546397447586059570e-01  3.269729018211364746e-02  \\\n",
       "0                  0.082978                  0.915550   \n",
       "1                  0.566771                  0.027934   \n",
       "2                  0.366210                  0.988189   \n",
       "3                  0.511073                  0.052586   \n",
       "4                  0.194207                  0.957932   \n",
       "\n",
       "   9.787184596061706543e-01  3.489990830421447754e-01  \n",
       "0                  0.732339                  0.122448  \n",
       "1                  0.964522                  0.900431  \n",
       "2                  0.701620                  0.076703  \n",
       "3                  0.832570                  0.610705  \n",
       "4                  0.524745                  0.074539  "
      ]
     },
     "execution_count": 1,
     "metadata": {},
     "output_type": "execute_result"
    }
   ],
   "source": [
    "# Load the Pandas libraries with alias 'pd' \n",
    "import pandas as pd \n",
    "# Read data from file 'filename.csv' \n",
    "# (in the same directory that your python process is based)\n",
    "# Control delimiters, rows, column names with read_csv (see later) \n",
    "data = pd.read_csv(\"actionlist.csv\") \n",
    "# Preview the first 5 lines of the loaded data \n",
    "data.head()"
   ]
  },
  {
   "cell_type": "code",
   "execution_count": 16,
   "metadata": {},
   "outputs": [],
   "source": [
    "#Input: 12 actions #Output: 18 motor rotation in degree \n",
    "def ActionsToAngle(actions, numMotors, numLegs): \n",
    "    #18Motors. \n",
    "    #3Elements per leg. #First element inside leg = Motor A \n",
    "    #Second element inside leg = Motor B \n",
    "    #Second element inside leg = Motor C \n",
    "    #Motor layout: C-B-A-[Robo]-A-B-C \n",
    "    #0..2 right first leg \n",
    "    #3..5 right second leg \n",
    "    #6..8 right third leg \n",
    "    #9..11 left first leg \n",
    "    #12..14 left second leg \n",
    "    #15..17 left third leg \n",
    "    angles = [0]*numMotors\n",
    "    for i in range(0,numLegs):\n",
    "        anglesArrayOffset = i*3 \n",
    "        #The first 6 actions are in radians for all 6 motors. \n",
    "        #So only map them to degree \n",
    "        #Motor A \n",
    "        angles[0+anglesArrayOffset] = math.degree(actions[i])\n",
    "\n",
    "        #Left side angle B and C are swapped \n",
    "        sign = 1 \n",
    "        if i > 2: \n",
    "            sign = -1 \n",
    "\n",
    "        #The last 6 actions are in range 0..1. #So calculate the degrees.\n",
    "        #Motor B \n",
    "        angles[1+anglesArrayOffset] = sign*(90 - (actions[6 + i] * 90)) \n",
    "        #Motor C \n",
    "        angles[2+anglesArrayOffset] = sign*(-135 + (actions[6 + i] * 90)) \n",
    "    return angles"
   ]
  },
  {
   "cell_type": "code",
   "execution_count": 19,
   "metadata": {},
   "outputs": [
    {
     "data": {
      "text/plain": [
       "(199, 12)"
      ]
     },
     "execution_count": 19,
     "metadata": {},
     "output_type": "execute_result"
    }
   ],
   "source": [
    "data.shape"
   ]
  },
  {
   "cell_type": "code",
   "execution_count": 6,
   "metadata": {},
   "outputs": [],
   "source": [
    "networkOutputList = data.values.tolist()"
   ]
  },
  {
   "cell_type": "code",
   "execution_count": 9,
   "metadata": {},
   "outputs": [
    {
     "data": {
      "text/plain": [
       "[0.2626051604747772,\n",
       " 0.6083427667617797,\n",
       " 0.9374652504920962,\n",
       " 0.8014877438545228,\n",
       " 0.14416372776031494,\n",
       " 0.2855367362499237,\n",
       " 0.10530245304107665,\n",
       " 0.0966047644615173,\n",
       " 0.08297818899154663,\n",
       " 0.9155495166778562,\n",
       " 0.7323388457298278,\n",
       " 0.12244790792465207]"
      ]
     },
     "execution_count": 9,
     "metadata": {},
     "output_type": "execute_result"
    }
   ],
   "source": [
    "networkOutputList[0]"
   ]
  },
  {
   "cell_type": "code",
   "execution_count": 18,
   "metadata": {},
   "outputs": [
    {
     "name": "stdout",
     "output_type": "stream",
     "text": [
      "[0, 0, 0, 0, 0, 0, 0, 0, 0, 0, 0, 0, 0, 0, 0, 0, 0, 0]\n",
      "anglesArrayOffset:  0\n",
      "anglesArrayOffset:  3\n",
      "anglesArrayOffset:  6\n",
      "anglesArrayOffset:  9\n",
      "anglesArrayOffset:  12\n",
      "anglesArrayOffset:  15\n"
     ]
    },
    {
     "data": {
      "text/plain": [
       "[0.2626051604747772,\n",
       " 80.5227792263031,\n",
       " -125.5227792263031,\n",
       " 0.6083427667617797,\n",
       " 81.30557119846344,\n",
       " -126.30557119846344,\n",
       " 0.9374652504920962,\n",
       " 82.5319629907608,\n",
       " -127.5319629907608,\n",
       " 0.8014877438545228,\n",
       " -7.600543498992934,\n",
       " 52.600543498992934,\n",
       " 0.14416372776031494,\n",
       " -24.089503884315505,\n",
       " 69.0895038843155,\n",
       " 0.2855367362499237,\n",
       " -78.97968828678131,\n",
       " 123.97968828678131]"
      ]
     },
     "execution_count": 18,
     "metadata": {},
     "output_type": "execute_result"
    }
   ],
   "source": [
    "ActionsToAngle(networkOutputList[0], 18, 6)"
   ]
  }
 ],
 "metadata": {
  "kernelspec": {
   "display_name": "Python 3",
   "language": "python",
   "name": "python3"
  },
  "language_info": {
   "codemirror_mode": {
    "name": "ipython",
    "version": 3
   },
   "file_extension": ".py",
   "mimetype": "text/x-python",
   "name": "python",
   "nbconvert_exporter": "python",
   "pygments_lexer": "ipython3",
   "version": "3.7.4"
  }
 },
 "nbformat": 4,
 "nbformat_minor": 2
}
